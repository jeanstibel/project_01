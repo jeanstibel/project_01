{
 "cells": [
  {
   "cell_type": "markdown",
   "metadata": {},
   "source": [
    "# Functions to apply on the data"
   ]
  },
  {
   "cell_type": "code",
   "execution_count": 44,
   "metadata": {},
   "outputs": [],
   "source": [
    "# Process the data by day\n",
    "'''\n",
    "def preprocess_data_day(data):\n",
    "    # Convert timestamp to datetime\n",
    "    data['timestamp'] = pd.to_datetime(data['timestamp'])\n",
    "\n",
    "    # Group by day\n",
    "    data = data.groupby([data['timestamp'].dt.date, 'crypto_id']).agg({\n",
    "        'open': 'first', \n",
    "        'close': 'last', \n",
    "        'high': 'max', \n",
    "        'low': 'min', \n",
    "        'volume': 'sum', \n",
    "        'number_of_trades': 'sum', \n",
    "        'taker_buy_base_asset_volume': 'sum', \n",
    "    }).reset_index()\n",
    "\n",
    "    return data\n",
    "'''\n",
    "\n",
    "def preprocess_data_day(data):\n",
    "    # Convert timestamp to datetime\n",
    "    data['timestamp'] = pd.to_datetime(data['timestamp'])\n",
    "\n",
    "    # Group by day\n",
    "    data = data.groupby([data['timestamp'].dt.date, 'crypto_id']).agg({\n",
    "        'open': 'first', \n",
    "        'close': 'last', \n",
    "        'high': 'max', \n",
    "        'low': 'min', \n",
    "        'volume': 'sum', \n",
    "        'quote_asset_volume': 'sum', \n",
    "        'number_of_trades': 'sum', \n",
    "        'taker_buy_base_asset_volume': 'sum', \n",
    "        'taker_buy_quote_asset_volume': 'sum'\n",
    "    }).reset_index()\n",
    "\n",
    "    return data"
   ]
  },
  {
   "cell_type": "code",
   "execution_count": 45,
   "metadata": {},
   "outputs": [],
   "source": [
    "# Apply function to group by month\n",
    "def group_by_month(df):\n",
    "    df['date_month'] = df['date'].dt.to_period('M')\n",
    "    df_month = df.groupby(['date_month', 'crypto_id']).agg({\n",
    "        'open': 'first',\n",
    "        'high': 'max',\n",
    "        'low': 'min',\n",
    "        'close': 'last',\n",
    "        'volume': 'sum',\n",
    "        #'quote_asset_volume': 'sum',\n",
    "        'number_of_trades': 'sum',\n",
    "        #'taker_buy_base_asset_volume': 'sum',\n",
    "        #'taker_buy_quote_asset_volume': 'sum'\n",
    "    }).reset_index()\n",
    "    df_month['diff_oc'] = df_month['close'] - df_month['open']\n",
    "    df_month['diff_hl'] = df_month['high'] - df_month['low']\n",
    "\n",
    "    # reagent the columns\n",
    "    df_month = df_month[['date_month', 'crypto_id', 'open', 'close', 'diff_oc', 'high', 'low', 'diff_hl',\n",
    "                         'volume', 'number_of_trades']]\n",
    "    return df_month"
   ]
  },
  {
   "cell_type": "code",
   "execution_count": 46,
   "metadata": {},
   "outputs": [],
   "source": [
    "# Calculate the difference between open and close and high and low\n",
    "def calculate_diff(df):\n",
    "    df['diff_oc'] = df['close'] - df['open']\n",
    "    df['diff_hl'] = df['high'] - df['low']\n",
    "    return df"
   ]
  },
  {
   "cell_type": "code",
   "execution_count": 47,
   "metadata": {},
   "outputs": [],
   "source": [
    "# Calcualte the means of open and close and high and low\n",
    "def calculate_means(df):\n",
    "    df['mean_oc'] = (df['open'] + df['close']) / 2\n",
    "    df['mean_hl'] = (df['high'] + df['low']) / 2\n",
    "    return df"
   ]
  },
  {
   "cell_type": "code",
   "execution_count": 48,
   "metadata": {},
   "outputs": [],
   "source": [
    "# Create a dataframe for each year with 'date_month' separed by months\n",
    "def create_dataframes_by_year(df, years):\n",
    "    return {year: df[df['date_month'].dt.year == year] for year in years}"
   ]
  },
  {
   "cell_type": "code",
   "execution_count": 49,
   "metadata": {},
   "outputs": [],
   "source": [
    "# set index 'date' and 'crypto_id' \n",
    "def set_index_and_display(data, index_columns, num_rows=30):\n",
    "    data.set_index(index_columns, inplace=True)\n",
    "    return data.head(num_rows)"
   ]
  },
  {
   "cell_type": "code",
   "execution_count": 50,
   "metadata": {},
   "outputs": [],
   "source": [
    "# Transfor the columns to percentage\n",
    "def transform_to_percentage(df, columns):\n",
    "    for column in columns:\n",
    "        df[column] = df[column].apply(lambda x: f'{x:.2f}%')\n",
    "    return df"
   ]
  },
  {
   "cell_type": "code",
   "execution_count": 51,
   "metadata": {},
   "outputs": [],
   "source": [
    "# For the graphic, function to calculate the percentage change, by year\n",
    "def calculate_percentage_change(data):\n",
    "    data = data.sort_values(by=['date_month'])\n",
    "    data = data.groupby('id_name').agg({'open': 'first', 'close': 'last'})\n",
    "    data['change'] = ((data['close'] - data['open']) / data['open']) * 100\n",
    "    return data"
   ]
  },
  {
   "cell_type": "code",
   "execution_count": 52,
   "metadata": {},
   "outputs": [],
   "source": [
    "# Function to plot the percentage change by year\n",
    "def plot_percentage_change(data, year):\n",
    "    plt.figure(figsize=(12, 8))\n",
    "    plt.bar(data.index, data['change'], color='lightblue')\n",
    "    plt.xlabel('Cryptocurrency')\n",
    "    plt.ylabel('Percentage Change')\n",
    "    plt.title(f'Cryptocurrency Percentage Change in {year}')\n",
    "    plt.xticks(rotation=40)\n",
    "    for i, v in enumerate(data['change']):\n",
    "        plt.text(i, v, str(round(v, 2)) + '%', ha='center', va='bottom')\n",
    "    plt.show()"
   ]
  },
  {
   "cell_type": "code",
   "execution_count": 53,
   "metadata": {},
   "outputs": [],
   "source": [
    "# use time_periods on the function plot_number_of_trades_for_year\n",
    "def plot_number_of_trades_for_year(year, data):\n",
    "    \"\"\"\n",
    "    Plots the number of trades for each crypto_id and month for a given year.\n",
    "\n",
    "    Parameters:\n",
    "    year (int): The year to plot data for.\n",
    "    data (DataFrame): The data to plot.\n",
    "    \"\"\"\n",
    "    data_trade = data.loc[data['date_month'].dt.year == year]\n",
    "    data_trade['month'] = data_trade['date_month'].dt.strftime('%b')\n",
    "    data_trade['month'] = pd.Categorical(data_trade['month'], categories=['Jan', 'Feb', 'Mar', 'Apr', 'May', 'Jun', 'Jul', 'Aug', 'Sep', 'Oct', 'Nov', 'Dec'], ordered=True)\n",
    "    data_trade = data_trade.groupby(['month', 'id_name'])['number_of_trades'].sum().unstack().fillna(0)\n",
    "    \n",
    "    ax = data_trade.plot(kind='barh', stacked=True, figsize=(10, 8), color=[color_dict.get(x, '#333333') for x in data_trade.columns])\n",
    "    plt.title(f'Number of Trades for Cryptocurrencies in {year}')\n",
    "    plt.xlabel('Number of Trades')\n",
    "    plt.ylabel('Month')\n",
    "    plt.legend(title='Cryptocurrency', bbox_to_anchor=(1.05, 1), loc='upper left')\n",
    "    plt.show()"
   ]
  },
  {
   "cell_type": "code",
   "execution_count": 54,
   "metadata": {},
   "outputs": [],
   "source": [
    "# Function to plot the top 5 performing cryptocurrencies by year\n",
    "\n",
    "def plot_open_close_for_crypto(data, crypto_id, title):\n",
    "    # Filter the data for the given crypto_id\n",
    "    crypto_data = data.loc[data['crypto_id'] == crypto_id]\n",
    "    crypto_data = crypto_data[['open', 'close']]\n",
    "    crypto_data = crypto_data.set_index(data['date_month'])\n",
    "\n",
    "    # Plot the open and close prices\n",
    "    crypto_data.plot(figsize=(10, 6))\n",
    "    plt.title(f'Open and Close for {title} from 2020 to 2024')\n",
    "    plt.ylabel('Price in USD')\n",
    "\n",
    "    # Add value labels to the graph only at the January lines\n",
    "    for date, open_val, close_val in zip(crypto_data.index, crypto_data['open'], crypto_data['close']):\n",
    "        if date.month == 1:  # Check if the month is January\n",
    "            plt.text(date.to_timestamp(), open_val, f'{open_val:.2f}', ha='right', va='bottom', fontsize=8, color='blue')\n",
    "            plt.text(date.to_timestamp(), close_val, f'{close_val:.2f}', ha='right', va='bottom', fontsize=8, color='red')\n",
    "\n",
    "    plt.show()"
   ]
  },
  {
   "cell_type": "code",
   "execution_count": null,
   "metadata": {},
   "outputs": [],
   "source": []
  }
 ],
 "metadata": {
  "kernelspec": {
   "display_name": "Python 3",
   "language": "python",
   "name": "python3"
  },
  "language_info": {
   "codemirror_mode": {
    "name": "ipython",
    "version": 3
   },
   "file_extension": ".py",
   "mimetype": "text/x-python",
   "name": "python",
   "nbconvert_exporter": "python",
   "pygments_lexer": "ipython3",
   "version": "3.13.0"
  }
 },
 "nbformat": 4,
 "nbformat_minor": 2
}
